{
 "metadata": {
  "celltoolbar": "Slideshow",
  "name": "",
  "signature": "sha256:e0cc522df8b99f08723f6cc6df3fa595e793c7bd511f9b2d6a71cb4f92303584"
 },
 "nbformat": 3,
 "nbformat_minor": 0,
 "worksheets": [
  {
   "cells": [
    {
     "cell_type": "markdown",
     "metadata": {
      "slideshow": {
       "slide_type": "slide"
      }
     },
     "source": [
      "# The Brachistochrone problem\n",
      "\n",
      "Find the shape of the curve down which a bead sliding from rest and accelerated by gravity will slip (without friction) from one point to another in the least time.  The term derives from the Greek word brachistos, \"the shortest\" and chronos, \"time, delay.\" Also known as the quickest decent problem.  This problem was proposed by John Bernoulli in 1696 and solved independently by he and his brother Jakob, Newton, and Leibniz."
     ]
    },
    {
     "cell_type": "code",
     "collapsed": false,
     "input": [
      "from IPython.display import YouTubeVideo\n",
      "YouTubeVideo(\"HSRJ8t6nRtU\")"
     ],
     "language": "python",
     "metadata": {
      "slideshow": {
       "slide_type": "-"
      }
     },
     "outputs": [
      {
       "html": [
        "\n",
        "        <iframe\n",
        "            width=\"400\"\n",
        "            height=300\"\n",
        "            src=\"https://www.youtube.com/embed/HSRJ8t6nRtU\"\n",
        "            frameborder=\"0\"\n",
        "            allowfullscreen\n",
        "        ></iframe>\n",
        "        "
       ],
       "metadata": {},
       "output_type": "pyout",
       "prompt_number": 6,
       "text": [
        "<IPython.lib.display.YouTubeVideo at 0x10529cd90>"
       ]
      }
     ],
     "prompt_number": 6
    },
    {
     "cell_type": "markdown",
     "metadata": {},
     "source": [
      "Which ball wins the race?"
     ]
    },
    {
     "cell_type": "markdown",
     "metadata": {
      "slideshow": {
       "slide_type": "slide"
      }
     },
     "source": [
      "# The Calculus of Variations\n",
      "\n",
      "Formally, the problem of minimizing a definite integral has been the problem of interest in the Calculus of Variations.  However, we begin our introduction to this subject by investigating the general nature of extremum problems, starting with the stationary value of a function.\n",
      "\n",
      "## The stationary value of a function\n",
      "\n",
      "A function has a stationary value at a certain point if the rate of change of the function in every possible direction from that point vanishes.  In order to find a stationary value of a function we must explore the infinitesimal neighborhood of a point.  In mathematics, this \"exploration\" is called a variation.  A variation means an infinitesimal change, in analogy with the $d$ process of ordinary calculus.  However, contrary to the $d$ process, the infinitesimal change is not caused by an actual change of an independent variable, but is imposed by us as a kind of mathematical experiment, i.e., it is a virtual change.  A displacement of this nature is called a virtual displacement.  The term virtual indicates that he displacement was intentionally made in an kinematically admissible manner."
     ]
    },
    {
     "cell_type": "markdown",
     "metadata": {
      "slideshow": {
       "slide_type": "slide"
      }
     },
     "source": [
      "## Consider a function\n",
      "\n",
      "$$\n",
      "F=F(x,u_1(x),u_2(x),\\ldots ,u_n(x)),\n",
      "$$\n",
      "\n",
      "for an arbitrary fixed value of the independent variable $x$.  The change $\\epsilon \\phi_i$ in $u_i$, where $\\epsilon]$ is a small positive number that $\\epsilon \\to 0$, and the $\\phi_i$'s are direction cosines (functions representing the direction of the variation) is called the variation in $u_i$. So\n",
      "\n",
      "$$\n",
      "\\delta u_1=\\epsilon \\phi_1, \\quad \\delta u_2=\\epsilon \\phi_2, \\quad \\ldots ,  \\quad \\delta  u_n=\\epsilon \\phi_n,\n",
      "$$\n",
      "\n",
      "where $\\delta$ is the variational operator.  Associated with this change in the $u_i$'s is a change in $F$,\n",
      "\n",
      "$$\n",
      "\\Delta F = F(x, u_1+\\epsilon\\phi_1, u_2+\\epsilon\\phi_2, \\ldots, u_n + \\epsilon\\phi_n) - F(x,u_1,u_2,\\ldots ,u_n),\n",
      "$$"
     ]
    },
    {
     "cell_type": "markdown",
     "metadata": {
      "slideshow": {
       "slide_type": "subslide"
      }
     },
     "source": [
      "Expanding in power of $\\epsilon$ gives\n",
      "\n",
      "\\begin{align}\n",
      "\\Delta F =& F(x,u_1,u_2,\\ldots ,u_n) + \\epsilon\\phi_1\\frac{\\partial F}{\\partial u_1}+\\epsilon\\phi_2\\frac{\\partial F}{\\partial u_2}+\\ldots \\\\\n",
      "&+ \\frac{\\left(\\epsilon  \\phi _1\\right){}^2}{2!}\\frac{\\partial ^2F}{\\partial u_1^2}+\\frac{\\left(\\epsilon  \\phi _1\\right) \\left(\\epsilon  \\phi _2\\right)}{2!}\\frac{\\partial ^2F}{\\partial u_1\\partial u_2} + \\ldots \\\\\n",
      "&+ \\frac{\\left(\\epsilon  \\phi _n\\right){}^2}{2!}\\frac{\\partial ^2F}{\\partial u_n^2}+\\ldots -F(x,u_1,u_2,\\ldots ,u_n) \\\\\n",
      "=& \\epsilon \\left[\\frac{\\partial F}{\\partial u_1}\\phi _1+\\frac{\\partial F}{\\partial u_2}\\phi _2+\\ldots +\\frac{\\partial F}{\\partial u_n}\\phi _n\\right]+\\mathcal{O}\\left(\\epsilon^2\\right)\n",
      "\\end{align}"
     ]
    },
    {
     "cell_type": "markdown",
     "metadata": {
      "slideshow": {
       "slide_type": "subslide"
      }
     },
     "source": [
      "the first variation of $F$ is defined as\n",
      "\n",
      "\\begin{align}\n",
      "\\delta F &= \\epsilon \\left[ \\lim_{\\epsilon \\to 0} \\left( \\frac{\\Delta F}{\\epsilon} \\right) \\right] \\\\\n",
      "&= \\epsilon \\left[\\frac{d}{d\\epsilon }\\Delta  F\\right]_{\\epsilon =0} \\\\\n",
      "&=\\epsilon \\left[\\frac{\\partial F}{\\partial u_1}\\phi _1+\\frac{\\partial F}{\\partial u_2}\\phi _2+\\ldots +\\frac{\\partial F}{\\partial u_n}\\phi _n\\right]\n",
      "\\end{align}"
     ]
    },
    {
     "cell_type": "markdown",
     "metadata": {
      "slideshow": {
       "slide_type": "subslide"
      }
     },
     "source": [
      "and finally we have\n",
      "\n",
      "$$\n",
      "\\delta F=\\frac{\\partial F}{\\partial u_1}\\delta u_1+\\frac{\\partial F}{\\partial u_2}\\delta u_2+\\ldots +\\frac{\\partial F}{\\partial u_n}\\delta u_n\n",
      "$$"
     ]
    },
    {
     "cell_type": "markdown",
     "metadata": {
      "slideshow": {
       "slide_type": "fragment"
      }
     },
     "source": [
      "Compare this with the \"total differential of $F$\"\n",
      "\n",
      "$$\n",
      "dF=\\frac{\\partial F}{\\partial x}dx+\\frac{\\partial F}{\\partial u_1}\\delta u_1+\\frac{\\partial F}{\\partial u_2}\\delta u_2+\\ldots +\\frac{\\partial F}{\\partial u_n}\\delta u_n\n",
      "$$"
     ]
    },
    {
     "cell_type": "markdown",
     "metadata": {
      "slideshow": {
       "slide_type": "subslide"
      }
     },
     "source": [
      "The $\\delta$ only operates on the dependent variables.  For instructional purposes, let's go back to operating With finite quantities momentarily while attempting to find the stationary value of $F$, so\n",
      "\n",
      "$$\n",
      "\\delta F=\\epsilon \\left[\\frac{\\partial F}{\\partial u_1}\\phi _1+\\frac{\\partial F}{\\partial u_2}\\phi _2+\\ldots +\\frac{\\partial F}{\\partial u_n}\\phi _n\\right]=\\epsilon \\frac{\\partial F}{\\partial u_i}\\phi _i\n",
      "$$\n",
      "\n",
      "In order for $F$ to be stationary the right-hand side of above must vanish.  But now, the virtual nature of our variation implies that the $\\phi_i$'s can be made in any kinematically admissible fashion, i.e., they are arbitrary.  Also, recall that $\\epsilon$ was a small positive number by definition, therefore in order for $F$ to be stationary the following must hold,\n",
      "\n",
      "$$\n",
      "\\frac{\\partial F}{\\partial u_i}=0 \\quad \\text{for} \\quad i=1,2,\\ldots ,n.\n",
      "$$\n",
      "\n",
      "The converse is also true.  If second equation above is satisfied, then the first equation vanishes and $F$ has a stationary value, it is a necessary and sufficient condition."
     ]
    },
    {
     "cell_type": "markdown",
     "metadata": {
      "slideshow": {
       "slide_type": "slide"
      }
     },
     "source": [
      "## Properties of $\\delta$\n",
      "\n",
      "\n",
      "\\begin{align}\n",
      " \\delta  \\left(F_1\\pm F_2\\right)&=\\delta  F_1\\pm \\delta  F_2 \\\\\n",
      " \\delta  \\left(F_1 F_2\\right)&=\\frac{\\delta  F_1 F_2\\pm F_1 \\delta  F_2}{F_2^2} \\\\\n",
      " \\frac{\\delta  F_1}{F_2}&=\\delta  F_1 F_2\\pm F_1 \\delta  F_2 \\\\\n",
      " \\left(\\delta  F_1\\right){}^n&=\\left(n F_1\\right){}^{n-1} \\delta  F_1 \\\\\n",
      "\\end{align}\n"
     ]
    },
    {
     "cell_type": "markdown",
     "metadata": {
      "slideshow": {
       "slide_type": "subslide"
      }
     },
     "source": [
      "## Commutability with the differential operator\n",
      "\n",
      "This can be easily shown once again utilizing finite quantities as before.\n",
      "\n",
      "$$\n",
      "\\frac{d}{dx}\\delta  u=\\frac{d}{dx}\\epsilon  \\phi =\\frac{\\epsilon  d\\phi }{dx}=\\delta  u'=\\frac{\\delta  du}{dx}\n",
      "$$\n",
      "\n",
      "The same can be shown for integration\n",
      "\n",
      "$$\n",
      "\\delta  \\int_a^b u(x) \\, dx=\\int_a^b \\delta  u (x) \\, dx\n",
      "$$"
     ]
    },
    {
     "cell_type": "markdown",
     "metadata": {
      "slideshow": {
       "slide_type": "slide"
      }
     },
     "source": [
      "## Fundamental Lemma of The Calculus of Variations\n",
      "\n",
      "For an integrable $G(x)$, if this statement is true\n",
      "\n",
      "$$\n",
      "\\int_a^b G (x) \\eta (x) \\, dx=0\n",
      "$$\n",
      "\n",
      "and $\\eta(x)$ is arbitrary.  Then $G(x)$ must be 0."
     ]
    },
    {
     "cell_type": "markdown",
     "metadata": {
      "slideshow": {
       "slide_type": "fragment"
      }
     },
     "source": [
      "### Proof\n",
      "\n",
      "If $\\eta(x)$ is arbitrary, i.e., it can be anything.  Let it equal $\\eta(x)=G(x)$.  Then\n",
      "\n",
      "$$\n",
      "\\int_a^b G(x) \\eta(x) \\, dx = \\int_a^b G(x)^2 \\, dx =0\n",
      "$$\n",
      "\n",
      "Therefore, $G(x) = 0$."
     ]
    },
    {
     "cell_type": "code",
     "collapsed": false,
     "input": [],
     "language": "python",
     "metadata": {},
     "outputs": []
    }
   ],
   "metadata": {}
  }
 ]
}