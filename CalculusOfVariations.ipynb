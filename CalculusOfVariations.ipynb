{
 "metadata": {
  "celltoolbar": "Slideshow",
  "name": "",
  "signature": "sha256:7b3afc7d13526b731ae97c220c62dff8470dc823733c321073369d0b4d20cc94"
 },
 "nbformat": 3,
 "nbformat_minor": 0,
 "worksheets": [
  {
   "cells": [
    {
     "cell_type": "markdown",
     "metadata": {
      "slideshow": {
       "slide_type": "slide"
      }
     },
     "source": [
      "# The Brachistochrone problem\n",
      "\n",
      "Find the shape of the curve down which a bead sliding from rest and accelerated by gravity will slip (without friction) from one point to another in the least time.  The term derives from the Greek word brachistos, \"the shortest\" and chronos, \"time, delay.\" Also known as the quickest decent problem.  This problem was proposed by John Bernoulli in 1696 and solved independently by he and his brother Jakob, Newton, and Leibniz."
     ]
    },
    {
     "cell_type": "code",
     "collapsed": false,
     "input": [
      "from IPython.display import YouTubeVideo\n",
      "YouTubeVideo(\"HSRJ8t6nRtU\", start=0.1)"
     ],
     "language": "python",
     "metadata": {
      "slideshow": {
       "slide_type": "-"
      }
     },
     "outputs": [
      {
       "html": [
        "\n",
        "        <iframe\n",
        "            width=\"400\"\n",
        "            height=300\"\n",
        "            src=\"https://www.youtube.com/embed/HSRJ8t6nRtU?start=0.1\"\n",
        "            frameborder=\"0\"\n",
        "            allowfullscreen\n",
        "        ></iframe>\n",
        "        "
       ],
       "metadata": {},
       "output_type": "pyout",
       "prompt_number": 43,
       "text": [
        "<IPython.lib.display.YouTubeVideo at 0x10c314b50>"
       ]
      }
     ],
     "prompt_number": 43
    },
    {
     "cell_type": "markdown",
     "metadata": {},
     "source": [
      "Which ball wins the race?"
     ]
    },
    {
     "cell_type": "markdown",
     "metadata": {
      "slideshow": {
       "slide_type": "slide"
      }
     },
     "source": [
      "# The Calculus of Variations\n",
      "\n",
      "Formally, the problem of minimizing a definite integral has been the problem of interest in the Calculus of Variations.  However, we begin our introduction to this subject by investigating the general nature of extremum problems, starting with the stationary value of a function.\n",
      "\n",
      "## The stationary value of a function\n",
      "\n",
      "A function has a stationary value at a certain point if the rate of change of the function in every possible direction from that point vanishes.  In order to find a stationary value of a function we must explore the infinitesimal neighborhood of a point.  In mathematics, this \"exploration\" is called a variation.  A variation means an infinitesimal change, in analogy with the $d$ process of ordinary calculus.  However, contrary to the $d$ process, the infinitesimal change is not caused by an actual change of an independent variable, but is imposed by us as a kind of mathematical experiment, i.e., it is a virtual change.  A displacement of this nature is called a virtual displacement.  The term virtual indicates that he displacement was intentionally made in an kinematically admissible manner."
     ]
    },
    {
     "cell_type": "markdown",
     "metadata": {
      "slideshow": {
       "slide_type": "slide"
      }
     },
     "source": [
      "## Consider a function\n",
      "\n",
      "$$\n",
      "F=F(x,u_1(x),u_2(x),\\ldots ,u_n(x)),\n",
      "$$\n",
      "\n",
      "for an arbitrary fixed value of the independent variable $x$.  The change $\\epsilon \\phi_i$ in $u_i$, where $\\epsilon]$ is a small positive number that $\\epsilon \\to 0$, and the $\\phi_i$'s are direction cosines (functions representing the direction of the variation) is called the variation in $u_i$. So\n",
      "\n",
      "$$\n",
      "\\delta u_1=\\epsilon \\phi_1, \\quad \\delta u_2=\\epsilon \\phi_2, \\quad \\ldots ,  \\quad \\delta  u_n=\\epsilon \\phi_n,\n",
      "$$\n",
      "\n",
      "where $\\delta$ is the variational operator.  Associated with this change in the $u_i$'s is a change in $F$,\n",
      "\n",
      "$$\n",
      "\\Delta F = F(x, u_1+\\epsilon\\phi_1, u_2+\\epsilon\\phi_2, \\ldots, u_n + \\epsilon\\phi_n) - F(x,u_1,u_2,\\ldots ,u_n),\n",
      "$$"
     ]
    },
    {
     "cell_type": "markdown",
     "metadata": {
      "slideshow": {
       "slide_type": "subslide"
      }
     },
     "source": [
      "Expanding in power of $\\epsilon$ gives\n",
      "\n",
      "\\begin{align}\n",
      "\\Delta F =& F(x,u_1,u_2,\\ldots ,u_n) + \\epsilon\\phi_1\\frac{\\partial F}{\\partial u_1}+\\epsilon\\phi_2\\frac{\\partial F}{\\partial u_2}+\\ldots \\\\\n",
      "&+ \\frac{\\left(\\epsilon  \\phi _1\\right){}^2}{2!}\\frac{\\partial ^2F}{\\partial u_1^2}+\\frac{\\left(\\epsilon  \\phi _1\\right) \\left(\\epsilon  \\phi _2\\right)}{2!}\\frac{\\partial ^2F}{\\partial u_1\\partial u_2} + \\ldots \\\\\n",
      "&+ \\frac{\\left(\\epsilon  \\phi _n\\right){}^2}{2!}\\frac{\\partial ^2F}{\\partial u_n^2}+\\ldots -F(x,u_1,u_2,\\ldots ,u_n) \\\\\n",
      "=& \\epsilon \\left[\\frac{\\partial F}{\\partial u_1}\\phi _1+\\frac{\\partial F}{\\partial u_2}\\phi _2+\\ldots +\\frac{\\partial F}{\\partial u_n}\\phi _n\\right]+\\mathcal{O}\\left(\\epsilon^2\\right)\n",
      "\\end{align}"
     ]
    },
    {
     "cell_type": "markdown",
     "metadata": {
      "slideshow": {
       "slide_type": "subslide"
      }
     },
     "source": [
      "the first variation of $F$ is defined as\n",
      "\n",
      "\\begin{align}\n",
      "\\delta F &= \\epsilon \\left[ \\lim_{\\epsilon \\to 0} \\left( \\frac{\\Delta F}{\\epsilon} \\right) \\right] \\\\\n",
      "&= \\epsilon \\left[\\frac{d}{d\\epsilon }\\Delta  F\\right]_{\\epsilon =0} \\\\\n",
      "&=\\epsilon \\left[\\frac{\\partial F}{\\partial u_1}\\phi _1+\\frac{\\partial F}{\\partial u_2}\\phi _2+\\ldots +\\frac{\\partial F}{\\partial u_n}\\phi _n\\right]\n",
      "\\end{align}"
     ]
    },
    {
     "cell_type": "markdown",
     "metadata": {
      "slideshow": {
       "slide_type": "subslide"
      }
     },
     "source": [
      "and finally we have\n",
      "\n",
      "$$\n",
      "\\delta F=\\frac{\\partial F}{\\partial u_1}\\delta u_1+\\frac{\\partial F}{\\partial u_2}\\delta u_2+\\ldots +\\frac{\\partial F}{\\partial u_n}\\delta u_n\n",
      "$$"
     ]
    },
    {
     "cell_type": "markdown",
     "metadata": {
      "slideshow": {
       "slide_type": "fragment"
      }
     },
     "source": [
      "Compare this with the \"total differential of $F$\"\n",
      "\n",
      "$$\n",
      "dF=\\frac{\\partial F}{\\partial x}dx+\\frac{\\partial F}{\\partial u_1}\\delta u_1+\\frac{\\partial F}{\\partial u_2}\\delta u_2+\\ldots +\\frac{\\partial F}{\\partial u_n}\\delta u_n\n",
      "$$"
     ]
    },
    {
     "cell_type": "markdown",
     "metadata": {
      "slideshow": {
       "slide_type": "subslide"
      }
     },
     "source": [
      "The $\\delta$ only operates on the dependent variables.  For instructional purposes, let's go back to operating With finite quantities momentarily while attempting to find the stationary value of $F$, so\n",
      "\n",
      "$$\n",
      "\\delta F=\\epsilon \\left[\\frac{\\partial F}{\\partial u_1}\\phi _1+\\frac{\\partial F}{\\partial u_2}\\phi _2+\\ldots +\\frac{\\partial F}{\\partial u_n}\\phi _n\\right]=\\epsilon \\frac{\\partial F}{\\partial u_i}\\phi _i\n",
      "$$\n",
      "\n",
      "In order for $F$ to be stationary the right-hand side of above must vanish.  But now, the virtual nature of our variation implies that the $\\phi_i$'s can be made in any kinematically admissible fashion, i.e., they are arbitrary.  Also, recall that $\\epsilon$ was a small positive number by definition, therefore in order for $F$ to be stationary the following must hold,\n",
      "\n",
      "$$\n",
      "\\frac{\\partial F}{\\partial u_i}=0 \\quad \\text{for} \\quad i=1,2,\\ldots ,n.\n",
      "$$\n",
      "\n",
      "The converse is also true.  If second equation above is satisfied, then the first equation vanishes and $F$ has a stationary value, it is a necessary and sufficient condition."
     ]
    },
    {
     "cell_type": "markdown",
     "metadata": {
      "slideshow": {
       "slide_type": "slide"
      }
     },
     "source": [
      "## Properties of $\\delta$\n",
      "\n",
      "\n",
      "\\begin{align}\n",
      " \\delta  \\left(F_1\\pm F_2\\right)&=\\delta  F_1\\pm \\delta  F_2 \\\\\n",
      " \\delta  \\left(F_1 F_2\\right)&=\\frac{\\delta  F_1 F_2\\pm F_1 \\delta  F_2}{F_2^2} \\\\\n",
      " \\frac{\\delta  F_1}{F_2}&=\\delta  F_1 F_2\\pm F_1 \\delta  F_2 \\\\\n",
      " \\left(\\delta  F_1\\right){}^n&=\\left(n F_1\\right){}^{n-1} \\delta  F_1 \\\\\n",
      "\\end{align}\n"
     ]
    },
    {
     "cell_type": "markdown",
     "metadata": {
      "slideshow": {
       "slide_type": "subslide"
      }
     },
     "source": [
      "## Commutability with the differential operator\n",
      "\n",
      "This can be easily shown once again utilizing finite quantities as before.\n",
      "\n",
      "$$\n",
      "\\frac{d}{dx}\\delta  u=\\frac{d}{dx}\\epsilon  \\phi =\\frac{\\epsilon  d\\phi }{dx}=\\delta  u'=\\frac{\\delta  du}{dx}\n",
      "$$\n",
      "\n",
      "The same can be shown for integration\n",
      "\n",
      "$$\n",
      "\\delta  \\int_a^b u(x) \\, dx=\\int_a^b \\delta  u (x) \\, dx\n",
      "$$"
     ]
    },
    {
     "cell_type": "markdown",
     "metadata": {
      "slideshow": {
       "slide_type": "slide"
      }
     },
     "source": [
      "## Fundamental Lemma of The Calculus of Variations\n",
      "\n",
      "For an integrable $G(x)$, if this statement is true\n",
      "\n",
      "$$\n",
      "\\int_a^b G (x) \\eta (x) \\, dx=0\n",
      "$$\n",
      "\n",
      "and $\\eta(x)$ is arbitrary.  Then $G(x)$ must be 0."
     ]
    },
    {
     "cell_type": "markdown",
     "metadata": {
      "slideshow": {
       "slide_type": "fragment"
      }
     },
     "source": [
      "### Proof\n",
      "\n",
      "If $\\eta(x)$ is arbitrary, i.e., it can be anything.  Let it equal $\\eta(x)=G(x)$.  Then\n",
      "\n",
      "$$\n",
      "\\int_a^b G(x) \\eta(x) \\, dx = \\int_a^b G(x)^2 \\, dx =0\n",
      "$$\n",
      "\n",
      "Therefore, $G(x) = 0$."
     ]
    },
    {
     "cell_type": "markdown",
     "metadata": {
      "slideshow": {
       "slide_type": "slide"
      }
     },
     "source": [
      "## The stationary value of a definite integral\n",
      "\n",
      "Consider the integral\n",
      "\n",
      "$$\n",
      "I = \\int_a^b F(x, y(x), y'(x)) \\, dx,\n",
      "$$\n",
      "\n",
      "in order to investigate the rate of change of the integral, we'll start by investigation the variation of the integrand\n",
      "\n",
      "$$\n",
      "\\delta F(x, y(x), y'(x)) = \\frac{\\partial F}{\\partial y} \\delta y + \\frac{\\partial F}{\\partial y'} \\delta y'.\n",
      "$$"
     ]
    },
    {
     "cell_type": "markdown",
     "metadata": {
      "slideshow": {
       "slide_type": "fragment"
      }
     },
     "source": [
      "Now the integral\n",
      "\n",
      "\n",
      "\\begin{align}\n",
      "\\delta I =& \\delta \\int_a^b F(x, y(x), y'(x)) \\, dx = \\int_a^b \\delta F(x, y(x), y'(x)) \\, dx = \\int_a^b \\left(\\frac{\\partial F}{\\partial y}\\delta y+\\frac{\\partial F}{\\partial y'}\\delta y'\\right) \\, dx, \\\\\n",
      "=& \\int _a^b\\frac{\\partial F}{\\partial y}\\delta y \\, dx+\\int _a^b\\frac{\\partial F}{\\partial y'}\\delta y' \\, dx.\n",
      "\\end{align}"
     ]
    },
    {
     "cell_type": "markdown",
     "metadata": {
      "slideshow": {
       "slide_type": "subslide"
      }
     },
     "source": [
      "Integrate the second term by parts\n",
      "\n",
      "\n",
      "\\begin{align}\n",
      " \\int_a^b\\frac{\\partial F}{\\partial y'}\\delta y' \\, dx =&\\left[\\frac{\\partial F}{\\partial y'}\\delta y\\right]_a^b-\\int_a^b \\left(\\frac{d}{dx}\\left(\\frac{\\partial F}{\\partial y'}\\right)\\delta y\\right) \\, dx, \\\\\n",
      " &= \\frac{\\partial F}{\\partial y'}\\delta b y-\\frac{\\partial F}{\\partial y'}\\delta a y-\\int_a^b \\left(\\frac{d}{dx}\\left(\\frac{\\partial F}{\\partial y'}\\right)\\delta y\\right) \\, dx, \\\\\n",
      " &=-\\int_a^b \\left(\\frac{d}{dx}\\left(\\frac{\\partial F}{\\partial y'}\\right)\\delta y\\right) \\, dx.\n",
      "\\end{align}"
     ]
    },
    {
     "cell_type": "markdown",
     "metadata": {
      "slideshow": {
       "slide_type": "fragment"
      }
     },
     "source": [
      "The terms $\\delta y(a)$ and $\\delta y(b)$ drop out because the endpoints are fixed, therefore it is not possible to \"arbitrarily\" vary the function at those locations, i.e., they are not kinematically admissible.  Finally we have\n",
      "\n",
      "$$\n",
      "\\delta I =\\int _a^b\\left(\\frac{\\partial F}{\\partial y}-\\frac{d}{dx}\\left(\\frac{\\partial F}{\\partial y'}\\right)\\right)\\delta y \\, dx, \n",
      "$$"
     ]
    },
    {
     "cell_type": "markdown",
     "metadata": {
      "slideshow": {
       "slide_type": "fragment"
      }
     },
     "source": [
      "For $I$ to have a stationary value $\\delta I = 0$, so from the Fundamental Lemma of the Calculus of Variations we arrive at the Euler-Lagrange differential equation\n",
      "\n",
      "$$\n",
      "\\frac{\\partial F}{\\partial y}-\\frac{d}{dx}\\left(\\frac{\\partial F}{\\partial y'}\\right)=0.\n",
      "$$"
     ]
    },
    {
     "cell_type": "markdown",
     "metadata": {
      "slideshow": {
       "slide_type": "slide"
      }
     },
     "source": [
      "## Now back to the brachistochrone problem\n",
      "\n",
      "Now that we have the Euler-Lagrange equation in hand, we can quickly proceed to the solution of the brachistochrone problem.  We will use SymPy to arrive at the solution quickly.  First we define the integrand $F$"
     ]
    },
    {
     "cell_type": "code",
     "collapsed": false,
     "input": [
      "from sympy import *\n",
      "init_printing() \n",
      "x, g = symbols('x g')\n",
      "y = Function('y')(x)\n",
      "y_ = Derivative(y,x)\n",
      "#Define F here\n",
      "F = sqrt((1+y_**2)/(2*g*y))\n",
      "#Apply the Euler-Lagrange DE\n",
      "elde = simplify(Eq(diff(F,y) - diff(diff(F,y_),x), 0))\n",
      "elde"
     ],
     "language": "python",
     "metadata": {},
     "outputs": [
      {
       "latex": [
        "$$- \\frac{\\sqrt{2} \\sqrt{\\frac{\\left(\\frac{d}{d x} y{\\left (x \\right )}\\right)^{2} + 1}{g y{\\left (x \\right )}}} \\left(2 y{\\left (x \\right )} \\frac{d^{2}}{d x^{2}}  y{\\left (x \\right )} + \\left(\\frac{d}{d x} y{\\left (x \\right )}\\right)^{2} + 1\\right)}{4 \\left(\\left(\\frac{d}{d x} y{\\left (x \\right )}\\right)^{4} + 2 \\left(\\frac{d}{d x} y{\\left (x \\right )}\\right)^{2} + 1\\right) y{\\left (x \\right )}} = 0$$"
       ],
       "metadata": {},
       "output_type": "pyout",
       "png": "[encoded data removed]",
       "prompt_number": 97,
       "text": [
        "              _________________                                          \n",
        "             \u2571           2                                               \n",
        "            \u2571  \u239bd       \u239e                                                \n",
        "           \u2571   \u239c\u2500\u2500(y(x))\u239f  + 1  \u239b         2                   2    \u239e     \n",
        "   ___    \u2571    \u239ddx      \u23a0       \u239c        d          \u239bd       \u239e     \u239f     \n",
        "-\u2572\u2571 2 \u22c5  \u2571     \u2500\u2500\u2500\u2500\u2500\u2500\u2500\u2500\u2500\u2500\u2500\u2500\u2500\u2500\u2500 \u22c5\u239c2\u22c5y(x)\u22c5\u2500\u2500\u2500(y(x)) + \u239c\u2500\u2500(y(x))\u239f  + 1\u239f     \n",
        "       \u2572\u2571           g\u22c5y(x)      \u239c         2         \u239ddx      \u23a0     \u239f     \n",
        "                                \u239d       dx                         \u23a0     \n",
        "\u2500\u2500\u2500\u2500\u2500\u2500\u2500\u2500\u2500\u2500\u2500\u2500\u2500\u2500\u2500\u2500\u2500\u2500\u2500\u2500\u2500\u2500\u2500\u2500\u2500\u2500\u2500\u2500\u2500\u2500\u2500\u2500\u2500\u2500\u2500\u2500\u2500\u2500\u2500\u2500\u2500\u2500\u2500\u2500\u2500\u2500\u2500\u2500\u2500\u2500\u2500\u2500\u2500\u2500\u2500\u2500\u2500\u2500\u2500\u2500\u2500\u2500\u2500\u2500\u2500\u2500\u2500\u2500\u2500 = 0\n",
        "                 \u239b          4               2    \u239e                       \n",
        "                 \u239c\u239bd       \u239e      \u239bd       \u239e     \u239f                       \n",
        "               4\u22c5\u239c\u239c\u2500\u2500(y(x))\u239f  + 2\u22c5\u239c\u2500\u2500(y(x))\u239f  + 1\u239f\u22c5y(x)                  \n",
        "                 \u239d\u239ddx      \u23a0      \u239ddx      \u23a0     \u23a0                       "
       ]
      }
     ],
     "prompt_number": 97
    },
    {
     "cell_type": "code",
     "collapsed": false,
     "input": [
      "y0p = solve(elde,diff(y,x,x))\n",
      "y0p"
     ],
     "language": "python",
     "metadata": {},
     "outputs": [
      {
       "latex": [
        "$$\\begin{bmatrix}- \\frac{\\left(\\frac{d}{d x} y{\\left (x \\right )}\\right)^{2} + 1}{2 y{\\left (x \\right )}}\\end{bmatrix}$$"
       ],
       "metadata": {},
       "output_type": "pyout",
       "png": "[encoded data removed]",
       "prompt_number": 98,
       "text": [
        "\u23a1 \u239b          2    \u239e \u23a4\n",
        "\u23a2 \u239c\u239bd       \u239e     \u239f \u23a5\n",
        "\u23a2-\u239c\u239c\u2500\u2500(y(x))\u239f  + 1\u239f \u23a5\n",
        "\u23a2 \u239d\u239ddx      \u23a0     \u23a0 \u23a5\n",
        "\u23a2\u2500\u2500\u2500\u2500\u2500\u2500\u2500\u2500\u2500\u2500\u2500\u2500\u2500\u2500\u2500\u2500\u2500\u2500\u2500\u23a5\n",
        "\u23a3       2\u22c5y(x)      \u23a6"
       ]
      }
     ],
     "prompt_number": 98
    },
    {
     "cell_type": "code",
     "collapsed": false,
     "input": [
      "import scipy.integrate\n",
      "import numpy as np\n",
      "import matplotlib.pyplot as plt\n",
      "\n",
      "def ode_sys(y,x):\n",
      "    dy0dx = - (y[0]**2 + 1) / 2.0 / y[1]\n",
      "    dy1dx = y[0]\n",
      "    return [dy0dx, dy1dx]\n",
      "\n",
      "x = np.linspace(0,1,num=100)\n",
      "sol = scipy.integrate.odeint(ode_sys,[0.,-1],x)\n",
      "\n",
      "plt.plot(x,sol[0])\n"
     ],
     "language": "python",
     "metadata": {},
     "outputs": [
      {
       "ename": "ImportError",
       "evalue": "dlopen(/usr/local/lib/python2.7/site-packages/matplotlib/_png.so, 2): Library not loaded: /usr/local/lib/libpng15.15.dylib\n  Referenced from: /usr/local/lib/python2.7/site-packages/matplotlib/_png.so\n  Reason: image not found",
       "output_type": "pyerr",
       "traceback": [
        "\u001b[0;31m---------------------------------------------------------------------------\u001b[0m\n\u001b[0;31mImportError\u001b[0m                               Traceback (most recent call last)",
        "\u001b[0;32m<ipython-input-103-d5eff9ebc4a4>\u001b[0m in \u001b[0;36m<module>\u001b[0;34m()\u001b[0m\n\u001b[1;32m      1\u001b[0m \u001b[0;32mimport\u001b[0m \u001b[0mscipy\u001b[0m\u001b[0;34m.\u001b[0m\u001b[0mintegrate\u001b[0m\u001b[0;34m\u001b[0m\u001b[0m\n\u001b[1;32m      2\u001b[0m \u001b[0;32mimport\u001b[0m \u001b[0mnumpy\u001b[0m \u001b[0;32mas\u001b[0m \u001b[0mnp\u001b[0m\u001b[0;34m\u001b[0m\u001b[0m\n\u001b[0;32m----> 3\u001b[0;31m \u001b[0;32mimport\u001b[0m \u001b[0mmatplotlib\u001b[0m\u001b[0;34m.\u001b[0m\u001b[0mpyplot\u001b[0m \u001b[0;32mas\u001b[0m \u001b[0mplt\u001b[0m\u001b[0;34m\u001b[0m\u001b[0m\n\u001b[0m\u001b[1;32m      4\u001b[0m \u001b[0;34m\u001b[0m\u001b[0m\n\u001b[1;32m      5\u001b[0m \u001b[0;32mdef\u001b[0m \u001b[0mode_sys\u001b[0m\u001b[0;34m(\u001b[0m\u001b[0my\u001b[0m\u001b[0;34m,\u001b[0m\u001b[0mx\u001b[0m\u001b[0;34m)\u001b[0m\u001b[0;34m:\u001b[0m\u001b[0;34m\u001b[0m\u001b[0m\n",
        "\u001b[0;32m/usr/local/lib/python2.7/site-packages/matplotlib/pyplot.py\u001b[0m in \u001b[0;36m<module>\u001b[0;34m()\u001b[0m\n\u001b[1;32m     22\u001b[0m \u001b[0;34m\u001b[0m\u001b[0m\n\u001b[1;32m     23\u001b[0m \u001b[0;32mimport\u001b[0m \u001b[0mmatplotlib\u001b[0m\u001b[0;34m\u001b[0m\u001b[0m\n\u001b[0;32m---> 24\u001b[0;31m \u001b[0;32mimport\u001b[0m \u001b[0mmatplotlib\u001b[0m\u001b[0;34m.\u001b[0m\u001b[0mcolorbar\u001b[0m\u001b[0;34m\u001b[0m\u001b[0m\n\u001b[0m\u001b[1;32m     25\u001b[0m \u001b[0;32mfrom\u001b[0m \u001b[0mmatplotlib\u001b[0m \u001b[0;32mimport\u001b[0m \u001b[0m_pylab_helpers\u001b[0m\u001b[0;34m,\u001b[0m \u001b[0minteractive\u001b[0m\u001b[0;34m\u001b[0m\u001b[0m\n\u001b[1;32m     26\u001b[0m \u001b[0;32mfrom\u001b[0m \u001b[0mmatplotlib\u001b[0m\u001b[0;34m.\u001b[0m\u001b[0mcbook\u001b[0m \u001b[0;32mimport\u001b[0m \u001b[0mdedent\u001b[0m\u001b[0;34m,\u001b[0m \u001b[0msilent_list\u001b[0m\u001b[0;34m,\u001b[0m \u001b[0mis_string_like\u001b[0m\u001b[0;34m,\u001b[0m \u001b[0mis_numlike\u001b[0m\u001b[0;34m\u001b[0m\u001b[0m\n",
        "\u001b[0;32m/usr/local/lib/python2.7/site-packages/matplotlib/colorbar.py\u001b[0m in \u001b[0;36m<module>\u001b[0;34m()\u001b[0m\n\u001b[1;32m     27\u001b[0m \u001b[0;32mimport\u001b[0m \u001b[0mmatplotlib\u001b[0m\u001b[0;34m.\u001b[0m\u001b[0martist\u001b[0m \u001b[0;32mas\u001b[0m \u001b[0mmartist\u001b[0m\u001b[0;34m\u001b[0m\u001b[0m\n\u001b[1;32m     28\u001b[0m \u001b[0;32mimport\u001b[0m \u001b[0mmatplotlib\u001b[0m\u001b[0;34m.\u001b[0m\u001b[0mcbook\u001b[0m \u001b[0;32mas\u001b[0m \u001b[0mcbook\u001b[0m\u001b[0;34m\u001b[0m\u001b[0m\n\u001b[0;32m---> 29\u001b[0;31m \u001b[0;32mimport\u001b[0m \u001b[0mmatplotlib\u001b[0m\u001b[0;34m.\u001b[0m\u001b[0mcollections\u001b[0m \u001b[0;32mas\u001b[0m \u001b[0mcollections\u001b[0m\u001b[0;34m\u001b[0m\u001b[0m\n\u001b[0m\u001b[1;32m     30\u001b[0m \u001b[0;32mimport\u001b[0m \u001b[0mmatplotlib\u001b[0m\u001b[0;34m.\u001b[0m\u001b[0mcolors\u001b[0m \u001b[0;32mas\u001b[0m \u001b[0mcolors\u001b[0m\u001b[0;34m\u001b[0m\u001b[0m\n\u001b[1;32m     31\u001b[0m \u001b[0;32mimport\u001b[0m \u001b[0mmatplotlib\u001b[0m\u001b[0;34m.\u001b[0m\u001b[0mcontour\u001b[0m \u001b[0;32mas\u001b[0m \u001b[0mcontour\u001b[0m\u001b[0;34m\u001b[0m\u001b[0m\n",
        "\u001b[0;32m/usr/local/lib/python2.7/site-packages/matplotlib/collections.py\u001b[0m in \u001b[0;36m<module>\u001b[0;34m()\u001b[0m\n\u001b[1;32m     21\u001b[0m \u001b[0;32mimport\u001b[0m \u001b[0mmatplotlib\u001b[0m\u001b[0;34m.\u001b[0m\u001b[0martist\u001b[0m \u001b[0;32mas\u001b[0m \u001b[0martist\u001b[0m\u001b[0;34m\u001b[0m\u001b[0m\n\u001b[1;32m     22\u001b[0m \u001b[0;32mfrom\u001b[0m \u001b[0mmatplotlib\u001b[0m\u001b[0;34m.\u001b[0m\u001b[0martist\u001b[0m \u001b[0;32mimport\u001b[0m \u001b[0mallow_rasterization\u001b[0m\u001b[0;34m\u001b[0m\u001b[0m\n\u001b[0;32m---> 23\u001b[0;31m \u001b[0;32mimport\u001b[0m \u001b[0mmatplotlib\u001b[0m\u001b[0;34m.\u001b[0m\u001b[0mbackend_bases\u001b[0m \u001b[0;32mas\u001b[0m \u001b[0mbackend_bases\u001b[0m\u001b[0;34m\u001b[0m\u001b[0m\n\u001b[0m\u001b[1;32m     24\u001b[0m \u001b[0;32mimport\u001b[0m \u001b[0mmatplotlib\u001b[0m\u001b[0;34m.\u001b[0m\u001b[0mpath\u001b[0m \u001b[0;32mas\u001b[0m \u001b[0mmpath\u001b[0m\u001b[0;34m\u001b[0m\u001b[0m\n\u001b[1;32m     25\u001b[0m \u001b[0;32mfrom\u001b[0m \u001b[0mmatplotlib\u001b[0m \u001b[0;32mimport\u001b[0m \u001b[0m_path\u001b[0m\u001b[0;34m\u001b[0m\u001b[0m\n",
        "\u001b[0;32m/usr/local/lib/python2.7/site-packages/matplotlib/backend_bases.py\u001b[0m in \u001b[0;36m<module>\u001b[0;34m()\u001b[0m\n\u001b[1;32m     48\u001b[0m \u001b[0;34m\u001b[0m\u001b[0m\n\u001b[1;32m     49\u001b[0m \u001b[0;32mimport\u001b[0m \u001b[0mmatplotlib\u001b[0m\u001b[0;34m.\u001b[0m\u001b[0mtight_bbox\u001b[0m \u001b[0;32mas\u001b[0m \u001b[0mtight_bbox\u001b[0m\u001b[0;34m\u001b[0m\u001b[0m\n\u001b[0;32m---> 50\u001b[0;31m \u001b[0;32mimport\u001b[0m \u001b[0mmatplotlib\u001b[0m\u001b[0;34m.\u001b[0m\u001b[0mtextpath\u001b[0m \u001b[0;32mas\u001b[0m \u001b[0mtextpath\u001b[0m\u001b[0;34m\u001b[0m\u001b[0m\n\u001b[0m\u001b[1;32m     51\u001b[0m \u001b[0;32mfrom\u001b[0m \u001b[0mmatplotlib\u001b[0m\u001b[0;34m.\u001b[0m\u001b[0mpath\u001b[0m \u001b[0;32mimport\u001b[0m \u001b[0mPath\u001b[0m\u001b[0;34m\u001b[0m\u001b[0m\n\u001b[1;32m     52\u001b[0m \u001b[0;32mfrom\u001b[0m \u001b[0mmatplotlib\u001b[0m\u001b[0;34m.\u001b[0m\u001b[0mcbook\u001b[0m \u001b[0;32mimport\u001b[0m \u001b[0mmplDeprecation\u001b[0m\u001b[0;34m\u001b[0m\u001b[0m\n",
        "\u001b[0;32m/usr/local/lib/python2.7/site-packages/matplotlib/textpath.py\u001b[0m in \u001b[0;36m<module>\u001b[0;34m()\u001b[0m\n\u001b[1;32m     12\u001b[0m \u001b[0;32mfrom\u001b[0m \u001b[0mmatplotlib\u001b[0m\u001b[0;34m.\u001b[0m\u001b[0mft2font\u001b[0m \u001b[0;32mimport\u001b[0m \u001b[0mFT2Font\u001b[0m\u001b[0;34m,\u001b[0m \u001b[0mKERNING_DEFAULT\u001b[0m\u001b[0;34m,\u001b[0m \u001b[0mLOAD_NO_HINTING\u001b[0m\u001b[0;34m\u001b[0m\u001b[0m\n\u001b[1;32m     13\u001b[0m \u001b[0;32mfrom\u001b[0m \u001b[0mmatplotlib\u001b[0m\u001b[0;34m.\u001b[0m\u001b[0mft2font\u001b[0m \u001b[0;32mimport\u001b[0m \u001b[0mLOAD_TARGET_LIGHT\u001b[0m\u001b[0;34m\u001b[0m\u001b[0m\n\u001b[0;32m---> 14\u001b[0;31m \u001b[0;32mfrom\u001b[0m \u001b[0mmatplotlib\u001b[0m\u001b[0;34m.\u001b[0m\u001b[0mmathtext\u001b[0m \u001b[0;32mimport\u001b[0m \u001b[0mMathTextParser\u001b[0m\u001b[0;34m\u001b[0m\u001b[0m\n\u001b[0m\u001b[1;32m     15\u001b[0m \u001b[0;32mimport\u001b[0m \u001b[0mmatplotlib\u001b[0m\u001b[0;34m.\u001b[0m\u001b[0mdviread\u001b[0m \u001b[0;32mas\u001b[0m \u001b[0mdviread\u001b[0m\u001b[0;34m\u001b[0m\u001b[0m\n\u001b[1;32m     16\u001b[0m \u001b[0;32mfrom\u001b[0m \u001b[0mmatplotlib\u001b[0m\u001b[0;34m.\u001b[0m\u001b[0mfont_manager\u001b[0m \u001b[0;32mimport\u001b[0m \u001b[0mFontProperties\u001b[0m\u001b[0;34m\u001b[0m\u001b[0m\n",
        "\u001b[0;32m/usr/local/lib/python2.7/site-packages/matplotlib/mathtext.py\u001b[0m in \u001b[0;36m<module>\u001b[0;34m()\u001b[0m\n\u001b[1;32m     60\u001b[0m \u001b[0;34m\u001b[0m\u001b[0m\n\u001b[1;32m     61\u001b[0m \u001b[0;32mimport\u001b[0m \u001b[0mmatplotlib\u001b[0m\u001b[0;34m.\u001b[0m\u001b[0mcolors\u001b[0m \u001b[0;32mas\u001b[0m \u001b[0mmcolors\u001b[0m\u001b[0;34m\u001b[0m\u001b[0m\n\u001b[0;32m---> 62\u001b[0;31m \u001b[0;32mimport\u001b[0m \u001b[0mmatplotlib\u001b[0m\u001b[0;34m.\u001b[0m\u001b[0m_png\u001b[0m \u001b[0;32mas\u001b[0m \u001b[0m_png\u001b[0m\u001b[0;34m\u001b[0m\u001b[0m\n\u001b[0m\u001b[1;32m     63\u001b[0m \u001b[0;31m####################\u001b[0m\u001b[0;34m\u001b[0m\u001b[0;34m\u001b[0m\u001b[0m\n\u001b[1;32m     64\u001b[0m \u001b[0;34m\u001b[0m\u001b[0m\n",
        "\u001b[0;31mImportError\u001b[0m: dlopen(/usr/local/lib/python2.7/site-packages/matplotlib/_png.so, 2): Library not loaded: /usr/local/lib/libpng15.15.dylib\n  Referenced from: /usr/local/lib/python2.7/site-packages/matplotlib/_png.so\n  Reason: image not found"
       ]
      }
     ],
     "prompt_number": 103
    },
    {
     "cell_type": "code",
     "collapsed": false,
     "input": [],
     "language": "python",
     "metadata": {},
     "outputs": []
    }
   ],
   "metadata": {}
  }
 ]
}